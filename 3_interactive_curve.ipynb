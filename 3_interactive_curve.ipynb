{
 "cells": [
  {
   "cell_type": "code",
   "execution_count": 1,
   "metadata": {},
   "outputs": [],
   "source": [
    "%load_ext autoreload\n",
    "%autoreload 2\n",
    "%aimport connectivity"
   ]
  },
  {
   "cell_type": "code",
   "execution_count": 4,
   "metadata": {},
   "outputs": [
    {
     "data": {
      "application/vnd.jupyter.widget-view+json": {
       "model_id": "8dc20c50027d4c8faff1e96b3b90befd",
       "version_major": 2,
       "version_minor": 0
      },
      "text/plain": [
       "interactive(children=(FloatSlider(value=1.0, description='upper_plateau', min=-100.0, step=0.01), FloatSlider(…"
      ]
     },
     "metadata": {},
     "output_type": "display_data"
    }
   ],
   "source": [
    "import numpy as np\n",
    "import matplotlib.pyplot as plt\n",
    "import ipywidgets as widgets\n",
    "from ipywidgets import interact\n",
    "from connectivity.curves import CURVES\n",
    "\n",
    "curve_name = \"4P\"\n",
    "infinity_replacement = 100\n",
    "curve = CURVES[curve_name]\n",
    "\n",
    "\n",
    "curve_function = curve[\"function\"]\n",
    "param_names = curve[\"param_names\"]\n",
    "initial_values = curve[\"initial_values\"]\n",
    "bounds = curve[\"bounds\"]\n",
    "if bounds is not None:\n",
    "    bounds = (\n",
    "        [max(-infinity_replacement, b) if b == -np.inf else min(infinity_replacement, b) for b in curve[\"bounds\"][0]],  # Lower bounds\n",
    "        [max(-infinity_replacement, b) if b == -np.inf else min(infinity_replacement, b) for b in curve[\"bounds\"][1]],  # Upper bounds\n",
    "    )\n",
    "else:\n",
    "    bounds = (\n",
    "        [-infinity_replacement] * len(param_names),  # Lower bounds\n",
    "        [infinity_replacement] * len(param_names),  # Upper bounds\n",
    "    )\n",
    "\n",
    "sliders = {\n",
    "    param: widgets.FloatSlider(\n",
    "        min=bounds[0][i], max=bounds[1][i], step=0.01, value=initial_values[i], description=param\n",
    "    )\n",
    "    for i, param in enumerate(param_names)\n",
    "}\n",
    "\n",
    "\n",
    "# Generate x values\n",
    "x_fit = np.linspace(0, 1, 1000)\n",
    "\n",
    "def plot_curve(**params):\n",
    "    \"\"\"Plot curve and its derivative.\"\"\"\n",
    "    param_values = list(params.values())\n",
    "    y_fit = curve_function(x_fit, *param_values)\n",
    "\n",
    "    # Compute numerical derivative\n",
    "    dy_dx = np.gradient(y_fit, x_fit)\n",
    "\n",
    "    # Area under curve\n",
    "    area = np.trapezoid(y_fit, x_fit)\n",
    "\n",
    "    # Create subplots\n",
    "    fig, (ax1, ax2) = plt.subplots(2, 1, figsize=(8, 7), sharex=True, gridspec_kw={'height_ratios': [3, 1]})\n",
    "\n",
    "    # Main curve\n",
    "    ax1.plot(x_fit, y_fit, label=f\"{curve['name']} Curve\")\n",
    "    ax1.set_ylabel(\"y\")\n",
    "    ax1.set_title(f\"{curve['name']} Curve (AUC = {area:.2f})\")\n",
    "    ax1.legend()\n",
    "    ax1.grid()\n",
    "\n",
    "    # Find index of maximum absolute slope (peak)\n",
    "    peak_idx = np.argmax(np.abs(dy_dx))\n",
    "    x_peak = x_fit[peak_idx]\n",
    "\n",
    "    # Derivative\n",
    "    ax2.plot(x_fit, dy_dx, color='gray', label=\"dy/dx\")\n",
    "    ax2.axvline(x_peak, color='red', linestyle='--', alpha=0.5)  # Vertical line at peak\n",
    "    ax2.set_xlabel(\"x\")\n",
    "    ax2.set_ylabel(\"dy/dx\")\n",
    "    ax2.legend()\n",
    "    ax2.set_title(f\"Peak at x = {x_peak:.2f}, max_slope = {dy_dx[peak_idx]:.2f}\")\n",
    "    ax2.grid()\n",
    "\n",
    "    plt.tight_layout()\n",
    "    plt.show()\n",
    "\n",
    "# Interactive display\n",
    "display(widgets.interactive(plot_curve, **sliders))"
   ]
  }
 ],
 "metadata": {
  "kernelspec": {
   "display_name": ".venv",
   "language": "python",
   "name": "python3"
  },
  "language_info": {
   "codemirror_mode": {
    "name": "ipython",
    "version": 3
   },
   "file_extension": ".py",
   "mimetype": "text/x-python",
   "name": "python",
   "nbconvert_exporter": "python",
   "pygments_lexer": "ipython3",
   "version": "3.12.6"
  }
 },
 "nbformat": 4,
 "nbformat_minor": 2
}
